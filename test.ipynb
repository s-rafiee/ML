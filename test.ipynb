{
 "cells": [
  {
   "cell_type": "code",
   "execution_count": 17,
   "id": "3fef75ee",
   "metadata": {},
   "outputs": [
    {
     "name": "stdout",
     "output_type": "stream",
     "text": [
      "[[0.         0.14285715 0.2857143  0.42857143]\n",
      " [0.5714286  0.71428573 0.85714287 1.        ]\n",
      " [0.         0.14285715 0.2857143  0.42857143]\n",
      " [0.5714286  0.71428573 0.85714287 1.        ]\n",
      " [0.         0.14285715 0.2857143  0.42857143]\n",
      " [0.5714286  0.71428573 0.85714287 1.        ]\n",
      " [0.         0.14285715 0.2857143  0.42857143]\n",
      " [0.5714286  0.71428573 0.85714287 1.        ]\n",
      " [0.         0.14285715 0.2857143  0.42857143]\n",
      " [0.5714286  0.71428573 0.85714287 1.        ]\n",
      " [0.         0.14285715 0.2857143  0.42857143]\n",
      " [0.5714286  0.71428573 0.85714287 1.        ]\n",
      " [0.         0.14285715 0.2857143  0.42857143]\n",
      " [0.5714286  0.71428573 0.85714287 1.        ]\n",
      " [0.         0.14285715 0.2857143  0.42857143]\n",
      " [0.5714286  0.71428573 0.85714287 1.        ]\n",
      " [0.         0.14285715 0.2857143  0.42857143]\n",
      " [0.5714286  0.71428573 0.85714287 1.        ]\n",
      " [0.         0.14285715 0.2857143  0.42857143]\n",
      " [0.5714286  0.71428573 0.85714287 1.        ]\n",
      " [0.5714286  0.71428573 0.85714287 1.        ]]\n"
     ]
    }
   ],
   "source": [
    "import numpy as np\n",
    "class PreProcessing(object):\n",
    "    def __init__(self, path):\n",
    "        self.path = path\n",
    "    \n",
    "    def load_data(self):\n",
    "        self.data = []\n",
    "        with open(self.path) as csv_file:\n",
    "            for line in csv_file.readlines():\n",
    "                line = line.replace('\\n','')\n",
    "                line = line.split(\",\")\n",
    "                self.data.append(line)\n",
    "            dataset = np.array(self.data, np.float32)\n",
    "            normalized_dataset = (dataset - np.min(dataset)) / (np.max(dataset) - np.min(dataset))\n",
    "            print(normalized_dataset)\n",
    "aggregate = PreProcessing(\"a.csv\")\n",
    "aggregate.load_data()"
   ]
  },
  {
   "cell_type": "code",
   "execution_count": null,
   "id": "f6da82c9",
   "metadata": {},
   "outputs": [],
   "source": [
    "normalized_dataset = (dataset - np.min(dataset)) / (np.max(dataset) - np.min(dataset))\n",
    "            print(normalized_dataset)"
   ]
  }
 ],
 "metadata": {
  "kernelspec": {
   "display_name": "Python 3 (ipykernel)",
   "language": "python",
   "name": "python3"
  },
  "language_info": {
   "codemirror_mode": {
    "name": "ipython",
    "version": 3
   },
   "file_extension": ".py",
   "mimetype": "text/x-python",
   "name": "python",
   "nbconvert_exporter": "python",
   "pygments_lexer": "ipython3",
   "version": "3.8.12"
  }
 },
 "nbformat": 4,
 "nbformat_minor": 5
}
