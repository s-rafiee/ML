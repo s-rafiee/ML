{
 "cells": [
  {
   "cell_type": "markdown",
   "id": "e092de51",
   "metadata": {},
   "source": [
    "# Variables\n",
    "int, float, string, string<br>\n",
    "variables type"
   ]
  },
  {
   "cell_type": "code",
   "execution_count": 19,
   "id": "a4985352",
   "metadata": {},
   "outputs": [],
   "source": [
    "a = 12.2"
   ]
  },
  {
   "cell_type": "code",
   "execution_count": 20,
   "id": "036298b8",
   "metadata": {},
   "outputs": [
    {
     "data": {
      "text/plain": [
       "float"
      ]
     },
     "execution_count": 20,
     "metadata": {},
     "output_type": "execute_result"
    }
   ],
   "source": [
    "type(a)"
   ]
  },
  {
   "cell_type": "markdown",
   "id": "7f4411e3",
   "metadata": {},
   "source": [
    "# Operators\n",
    "<p>*, +, -, /, **, %</p>"
   ]
  },
  {
   "cell_type": "code",
   "execution_count": 42,
   "id": "c222094f",
   "metadata": {},
   "outputs": [],
   "source": [
    "a=2\n",
    "b=3\n",
    "# c=a+b\n",
    "# c=b-a\n",
    "c = b%a"
   ]
  },
  {
   "cell_type": "code",
   "execution_count": 43,
   "id": "49034f31",
   "metadata": {},
   "outputs": [
    {
     "name": "stdout",
     "output_type": "stream",
     "text": [
      "1\n"
     ]
    }
   ],
   "source": [
    "print(c)"
   ]
  },
  {
   "cell_type": "markdown",
   "id": "c1cecbf7",
   "metadata": {},
   "source": [
    "# String\n",
    "a+b,range, upper, lower, split, join, replace, strip"
   ]
  },
  {
   "cell_type": "code",
   "execution_count": 64,
   "id": "e759ffae",
   "metadata": {},
   "outputs": [
    {
     "name": "stdout",
     "output_type": "stream",
     "text": [
      "hi sTudent\n",
      "sT\n",
      "HI STUDENT\n",
      "hi student\n",
      "['hi', 'sTudent']\n",
      "hi sTudent\n",
      "hi+sTudent\n",
      "ali\n",
      "ali \n",
      " ali\n"
     ]
    }
   ],
   "source": [
    "a=\"hi\"\n",
    "b=\"sTudent\"\n",
    "c = a+\" \"+b\n",
    "print(c)\n",
    "print(c[3:5])\n",
    "print(c.upper())\n",
    "print(c.lower())\n",
    "s = c.split(' ')\n",
    "print(s)\n",
    "print(' '.join(s))\n",
    "print(c.replace(' ','+'))\n",
    "\n",
    "s1 = \" ali \"\n",
    "print(s1.strip())\n",
    "print(s1.lstrip())\n",
    "print(s1.rstrip())"
   ]
  },
  {
   "cell_type": "markdown",
   "id": "bad4067c",
   "metadata": {},
   "source": [
    "# Loop\n",
    "For, While"
   ]
  },
  {
   "cell_type": "code",
   "execution_count": 66,
   "id": "7233f691",
   "metadata": {},
   "outputs": [
    {
     "name": "stdout",
     "output_type": "stream",
     "text": [
      "0\n",
      "1\n",
      "2\n",
      "3\n",
      "4\n",
      "5\n",
      "6\n",
      "7\n",
      "8\n",
      "9\n"
     ]
    }
   ],
   "source": [
    "for i in range(10):\n",
    "    print(i)"
   ]
  },
  {
   "cell_type": "code",
   "execution_count": 68,
   "id": "ed0cf107",
   "metadata": {},
   "outputs": [
    {
     "name": "stdout",
     "output_type": "stream",
     "text": [
      "0\n",
      "1\n",
      "2\n",
      "3\n",
      "4\n",
      "5\n",
      "6\n",
      "7\n",
      "8\n",
      "9\n"
     ]
    }
   ],
   "source": [
    "i=0\n",
    "while i<10:\n",
    "    print(i)\n",
    "    i = i+1"
   ]
  },
  {
   "cell_type": "markdown",
   "id": "0110540f",
   "metadata": {},
   "source": [
    "# List []\n",
    "Type, Length, Items, Range, Insert, Change Value, Append, Remove, Pop, Sort, Sort(reverse = True), Reverse"
   ]
  },
  {
   "cell_type": "code",
   "execution_count": 114,
   "id": "bab811e0",
   "metadata": {},
   "outputs": [
    {
     "data": {
      "text/plain": [
       "[3, 4, 5, 6]"
      ]
     },
     "execution_count": 114,
     "metadata": {},
     "output_type": "execute_result"
    }
   ],
   "source": [
    "a = [1,2,3,4,5,6,7]\n",
    "a[2:-1]"
   ]
  },
  {
   "cell_type": "code",
   "execution_count": 76,
   "id": "40b85bd9",
   "metadata": {},
   "outputs": [
    {
     "data": {
      "text/plain": [
       "list"
      ]
     },
     "execution_count": 76,
     "metadata": {},
     "output_type": "execute_result"
    }
   ],
   "source": [
    "type(a)"
   ]
  },
  {
   "cell_type": "code",
   "execution_count": 85,
   "id": "e7320375",
   "metadata": {},
   "outputs": [
    {
     "name": "stdout",
     "output_type": "stream",
     "text": [
      "[1, 2, 3, 4, 5, 6, 7]\n",
      "7\n",
      "2\n",
      "[2, 3, 4, 5]\n",
      "[4, 5]\n"
     ]
    }
   ],
   "source": [
    "print(a)\n",
    "print(len(a))\n",
    "print(a[1])\n",
    "print(a[1:5])\n",
    "print(a[3:-2])"
   ]
  },
  {
   "cell_type": "code",
   "execution_count": 88,
   "id": "6dcce313",
   "metadata": {},
   "outputs": [
    {
     "name": "stdout",
     "output_type": "stream",
     "text": [
      "['a', 'b', 'C', 'a', 4]\n",
      "['hi', 'b', 'C', 'a', 4]\n"
     ]
    }
   ],
   "source": [
    "b = ['a','b',\"C\",'a',4]\n",
    "print(b)\n",
    "b[0]=\"hi\"\n",
    "print(b)"
   ]
  },
  {
   "cell_type": "code",
   "execution_count": 89,
   "id": "179ce375",
   "metadata": {},
   "outputs": [
    {
     "data": {
      "text/plain": [
       "[1, 2, 3, 4, 5, 6, 7, 'hi', 'b', 'C', 'a', 4]"
      ]
     },
     "execution_count": 89,
     "metadata": {},
     "output_type": "execute_result"
    }
   ],
   "source": [
    "a+b"
   ]
  },
  {
   "cell_type": "code",
   "execution_count": 106,
   "id": "8c8bb5ba",
   "metadata": {},
   "outputs": [
    {
     "name": "stdout",
     "output_type": "stream",
     "text": [
      "[30, 10, 2]\n"
     ]
    }
   ],
   "source": [
    "a = [10,2,30]\n",
    "# a.append('f')\n",
    "# a\n",
    "a.sort(reverse = True)\n",
    "print(a)"
   ]
  },
  {
   "cell_type": "code",
   "execution_count": 110,
   "id": "28f4a0a5",
   "metadata": {},
   "outputs": [
    {
     "name": "stdout",
     "output_type": "stream",
     "text": [
      "[6, 0, 2, 5, 1]\n",
      "[6, 2, 5, 1]\n"
     ]
    }
   ],
   "source": [
    "b=[1,5,2,0,6]\n",
    "b.reverse()\n",
    "print(b)\n",
    "b.pop(1)\n",
    "print(b)"
   ]
  },
  {
   "cell_type": "markdown",
   "id": "85b70a23",
   "metadata": {},
   "source": [
    "# Tuple ()\n",
    "Type, Lenght, Items, Range, List to Tupe, Tuple to List, +, "
   ]
  },
  {
   "cell_type": "code",
   "execution_count": 131,
   "id": "db78cfae",
   "metadata": {},
   "outputs": [
    {
     "name": "stdout",
     "output_type": "stream",
     "text": [
      "<class 'tuple'>\n",
      "1\n",
      "4\n",
      "(2, 3)\n",
      "(1, 2, 3, 4, 10, 20, 30, 40)\n",
      "<class 'list'>\n",
      "[1, 5, 3, 4]\n",
      "<class 'tuple'>\n"
     ]
    }
   ],
   "source": [
    "a=(1,2,3,4)\n",
    "b=(10,20,30,40)\n",
    "print(type(a))\n",
    "print(a[0])\n",
    "print(len(a))\n",
    "print(a[1:3])\n",
    "print(a+b)\n",
    "# a[1] = 5\n",
    "l1 = list(a)\n",
    "print(type(l1))\n",
    "l1[1] = 5\n",
    "print(l1)\n",
    "l = [1,2,3]\n",
    "t = tuple(l)\n",
    "print(type(t))"
   ]
  },
  {
   "cell_type": "markdown",
   "id": "58d10565",
   "metadata": {},
   "source": [
    "# Set {}\n",
    "Type, Lenght, Add, Remove"
   ]
  },
  {
   "cell_type": "code",
   "execution_count": 145,
   "id": "9a0d3385",
   "metadata": {},
   "outputs": [
    {
     "name": "stdout",
     "output_type": "stream",
     "text": [
      "<class 'set'>\n",
      "3\n",
      "{'s', 1, '1', 5}\n",
      "s\n",
      "1\n",
      "{'1', 5}\n",
      "{'1'}\n"
     ]
    }
   ],
   "source": [
    "s1 = {'1',1,'s'}\n",
    "print(type(s1))\n",
    "print(len(s1))\n",
    "s1.add(5)\n",
    "print(s1)\n",
    "print(s1.pop())\n",
    "print(s1.pop())\n",
    "print(s1)\n",
    "s1.remove(5)\n",
    "print(s1)"
   ]
  },
  {
   "cell_type": "markdown",
   "id": "51c0f241",
   "metadata": {},
   "source": [
    "# Dictionaries {}\n",
    "Type, Lenght, Items, Get, Keys, Values, items(), update, Pop"
   ]
  },
  {
   "cell_type": "code",
   "execution_count": 172,
   "id": "b6bdd30a",
   "metadata": {},
   "outputs": [
    {
     "name": "stdout",
     "output_type": "stream",
     "text": [
      "{'name': 'ali', 'family': 'amiri', 'age': 25}\n",
      "25\n",
      "30\n",
      "dict_values(['ali', 'amiri', 30])\n",
      "dict_keys(['name', 'family', 'age'])\n",
      "3\n",
      "dict_items([('name', 'ali'), ('family', 'amiri'), ('age', 30)])\n",
      "30\n",
      "{'name': 'ali', 'family': 'amiri'}\n"
     ]
    }
   ],
   "source": [
    "a = dict()\n",
    "b = {'name':\"ali\", \"family\" :\"amiri\", \"age\": 25 }\n",
    "type(b)\n",
    "print(b)\n",
    "print(b['age'])\n",
    "b['age'] = 30\n",
    "print(b['age'])\n",
    "print(b.values())\n",
    "print(b.keys())\n",
    "print(len(b))\n",
    "print(b.items())\n",
    "print(b.pop('age'))\n",
    "print(b)"
   ]
  },
  {
   "cell_type": "markdown",
   "id": "1026f8b6",
   "metadata": {},
   "source": [
    "# If ... Else "
   ]
  },
  {
   "cell_type": "code",
   "execution_count": 187,
   "id": "a83915a5",
   "metadata": {},
   "outputs": [
    {
     "name": "stdout",
     "output_type": "stream",
     "text": [
      "=\n"
     ]
    }
   ],
   "source": [
    "i = 0\n",
    "if i < 0:\n",
    "    print(\"<\")\n",
    "elif i == 0:\n",
    "    print(\"=\")\n",
    "else:\n",
    "    print('>')"
   ]
  },
  {
   "cell_type": "code",
   "execution_count": 189,
   "id": "ea7994da",
   "metadata": {},
   "outputs": [
    {
     "name": "stdout",
     "output_type": "stream",
     "text": [
      "1\n",
      "a\n",
      "b\n",
      "4\n",
      "c\n",
      "6\n"
     ]
    }
   ],
   "source": [
    "a = [1,'a','b',4,'c',6]\n",
    "for i in a:\n",
    "    print(i)"
   ]
  },
  {
   "cell_type": "code",
   "execution_count": 194,
   "id": "281c1b83",
   "metadata": {},
   "outputs": [
    {
     "name": "stdout",
     "output_type": "stream",
     "text": [
      "['name', 'family', 'age']\n",
      "ok\n"
     ]
    }
   ],
   "source": [
    "b = {'name':\"ali\", \"family\" :\"amiri\", \"age\": 25 }\n",
    "print(list(b.keys()))\n",
    "for k in list(b.keys()):\n",
    "    if k =='age':\n",
    "        print(\"ok\")"
   ]
  },
  {
   "cell_type": "code",
   "execution_count": 202,
   "id": "a160afa7",
   "metadata": {},
   "outputs": [
    {
     "name": "stdout",
     "output_type": "stream",
     "text": [
      "ali\n"
     ]
    }
   ],
   "source": [
    "try:\n",
    "    print(b['name'])\n",
    "except:\n",
    "    print(\"Error\")"
   ]
  },
  {
   "cell_type": "markdown",
   "id": "40c87a0a",
   "metadata": {},
   "source": [
    "# Functions"
   ]
  },
  {
   "cell_type": "code",
   "execution_count": 219,
   "id": "6a43cb04",
   "metadata": {},
   "outputs": [
    {
     "name": "stdout",
     "output_type": "stream",
     "text": [
      "hi 434 2\n"
     ]
    }
   ],
   "source": [
    "def f1(message,b,c):\n",
    "    print(message, b, c)\n",
    "\n",
    "f1(\"hi\",'434',\"2\")"
   ]
  },
  {
   "cell_type": "markdown",
   "id": "311bd7ae",
   "metadata": {},
   "source": [
    "# Class"
   ]
  },
  {
   "cell_type": "code",
   "execution_count": 230,
   "id": "95aa5cb2",
   "metadata": {},
   "outputs": [],
   "source": [
    "class student:\n",
    "    def __init__(self, name, family):\n",
    "        self.name = name\n",
    "        self.family = family\n",
    "    \n",
    "    def show(self):\n",
    "        print(self.name, self.family)\n",
    "\n",
    "s1 = student(\"ali\", \"amiri\")"
   ]
  },
  {
   "cell_type": "code",
   "execution_count": 231,
   "id": "38fb8141",
   "metadata": {},
   "outputs": [
    {
     "name": "stdout",
     "output_type": "stream",
     "text": [
      "ali amiri\n"
     ]
    }
   ],
   "source": [
    "s1.show()"
   ]
  },
  {
   "cell_type": "code",
   "execution_count": null,
   "id": "9f815b67",
   "metadata": {},
   "outputs": [],
   "source": []
  },
  {
   "cell_type": "code",
   "execution_count": null,
   "id": "a71a7235",
   "metadata": {},
   "outputs": [],
   "source": []
  },
  {
   "cell_type": "code",
   "execution_count": null,
   "id": "39beb730",
   "metadata": {},
   "outputs": [],
   "source": []
  }
 ],
 "metadata": {
  "kernelspec": {
   "display_name": "Python 3 (ipykernel)",
   "language": "python",
   "name": "python3"
  },
  "language_info": {
   "codemirror_mode": {
    "name": "ipython",
    "version": 3
   },
   "file_extension": ".py",
   "mimetype": "text/x-python",
   "name": "python",
   "nbconvert_exporter": "python",
   "pygments_lexer": "ipython3",
   "version": "3.8.12"
  }
 },
 "nbformat": 4,
 "nbformat_minor": 5
}
