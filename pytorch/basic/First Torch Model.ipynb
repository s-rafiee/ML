{
 "cells": [
  {
   "cell_type": "code",
   "execution_count": 1,
   "metadata": {
    "collapsed": true
   },
   "outputs": [],
   "source": [
    "import torch"
   ]
  },
  {
   "cell_type": "code",
   "execution_count": 7,
   "outputs": [
    {
     "name": "stdout",
     "output_type": "stream",
     "text": [
      "Prediction befor Training: f(5) = 0.000\n",
      "epoch 1 => W= 0.300, loss= 30.000\n",
      "epoch 3 => W= 0.772, loss= 15.660\n",
      "epoch 5 => W= 1.113, loss= 8.175\n",
      "epoch 7 => W= 1.359, loss= 4.267\n",
      "epoch 9 => W= 1.537, loss= 2.228\n",
      "epoch 11 => W= 1.665, loss= 1.163\n",
      "epoch 13 => W= 1.758, loss= 0.607\n",
      "epoch 15 => W= 1.825, loss= 0.317\n",
      "epoch 17 => W= 1.874, loss= 0.165\n",
      "epoch 19 => W= 1.909, loss= 0.086\n",
      "epoch 21 => W= 1.934, loss= 0.045\n",
      "epoch 23 => W= 1.952, loss= 0.024\n",
      "epoch 25 => W= 1.966, loss= 0.012\n",
      "epoch 27 => W= 1.975, loss= 0.006\n",
      "epoch 29 => W= 1.982, loss= 0.003\n",
      "epoch 31 => W= 1.987, loss= 0.002\n",
      "epoch 33 => W= 1.991, loss= 0.001\n",
      "epoch 35 => W= 1.993, loss= 0.000\n"
     ]
    }
   ],
   "source": [
    "X = torch.tensor([1, 2, 3, 4], dtype=torch.float32)\n",
    "Y = torch.tensor([2, 4, 6, 8], dtype=torch.float32)\n",
    "\n",
    "W = torch.tensor(0.0, dtype=torch.float32, requires_grad=True)\n",
    "\n",
    "\n",
    "def forward(X):\n",
    "    return W * X\n",
    "\n",
    "\n",
    "print(f'Prediction befor Training: f(5) = {forward(5):.3f}')\n",
    "\n",
    "lr = 0.01\n",
    "n_iters = 35\n",
    "\n",
    "loss = torch.nn.MSELoss()\n",
    "optimizer = torch.optim.SGD([W], lr=lr)\n",
    "\n",
    "for epoch in range(n_iters):\n",
    "    # Prediction = forward pass\n",
    "\n",
    "    Y_pred = forward(X)\n",
    "\n",
    "    # loss\n",
    "    l = loss(Y, Y_pred)\n",
    "\n",
    "    # Gradients = backward pass\n",
    "    l.backward()  # dl/dw\n",
    "    optimizer.step()\n",
    "    optimizer.zero_grad()\n",
    "\n",
    "    if epoch % 2 == 0:\n",
    "        print(f'epoch {epoch + 1} => W= {W:.3f}, loss= {l:.3f}')"
   ],
   "metadata": {
    "collapsed": false,
    "pycharm": {
     "name": "#%%\n"
    }
   }
  },
  {
   "cell_type": "code",
   "execution_count": 14,
   "outputs": [
    {
     "name": "stdout",
     "output_type": "stream",
     "text": [
      "4 1\n",
      "Prediction befor Training: f(5) = -5.385\n",
      "epoch 1 => W= -0.453, loss= 75.716\n",
      "epoch 3 => W= 0.274, loss= 36.459\n",
      "epoch 5 => W= 0.779, loss= 17.558\n",
      "epoch 7 => W= 1.130, loss= 8.458\n",
      "epoch 9 => W= 1.373, loss= 4.077\n",
      "epoch 11 => W= 1.542, loss= 1.967\n",
      "epoch 13 => W= 1.659, loss= 0.951\n",
      "epoch 15 => W= 1.741, loss= 0.462\n",
      "epoch 17 => W= 1.798, loss= 0.227\n",
      "epoch 19 => W= 1.837, loss= 0.113\n",
      "epoch 21 => W= 1.865, loss= 0.059\n",
      "epoch 23 => W= 1.884, loss= 0.032\n",
      "epoch 25 => W= 1.897, loss= 0.019\n",
      "epoch 27 => W= 1.907, loss= 0.013\n",
      "epoch 29 => W= 1.914, loss= 0.010\n",
      "epoch 31 => W= 1.918, loss= 0.009\n",
      "epoch 33 => W= 1.922, loss= 0.008\n",
      "epoch 35 => W= 1.924, loss= 0.008\n",
      "Prediction After Training: f(5) = 9.829\n"
     ]
    }
   ],
   "source": [
    "X = torch.tensor([[1], [2], [3], [4]], dtype=torch.float32)\n",
    "Y = torch.tensor([[2], [4], [6], [8]], dtype=torch.float32)\n",
    "\n",
    "X_test = torch.tensor([[5]], dtype=torch.float32)\n",
    "\n",
    "n_sample, n_features = X.shape\n",
    "print(n_sample, n_features)\n",
    "\n",
    "input_size = n_features\n",
    "output_size = n_features\n",
    "\n",
    "model = torch.nn.Linear(input_size, output_size)\n",
    "\n",
    "print(f'Prediction befor Training: f(5) = {model(X_test).item():.3f}')\n",
    "\n",
    "lr = 0.01\n",
    "n_iters = 35\n",
    "\n",
    "loss = torch.nn.MSELoss()\n",
    "optimizer = torch.optim.SGD(model.parameters(), lr=lr)\n",
    "\n",
    "for epoch in range(n_iters):\n",
    "    # Prediction = forward pass\n",
    "\n",
    "    Y_pred = model(X)\n",
    "\n",
    "    # loss\n",
    "    l = loss(Y, Y_pred)\n",
    "\n",
    "    # Gradients = backward pass\n",
    "    l.backward()  # dl/dw\n",
    "    optimizer.step()\n",
    "    optimizer.zero_grad()\n",
    "\n",
    "    if epoch % 2 == 0:\n",
    "        [W, b] = model.parameters()\n",
    "        print(f'epoch {epoch + 1} => W= {W[0].item():.3f}, loss= {l:.3f}')\n",
    "print(f'Prediction After Training: f(5) = {model(X_test).item():.3f}')"
   ],
   "metadata": {
    "collapsed": false,
    "pycharm": {
     "name": "#%%\n"
    }
   }
  },
  {
   "cell_type": "code",
   "execution_count": 22,
   "outputs": [
    {
     "name": "stdout",
     "output_type": "stream",
     "text": [
      "4 1\n",
      "Prediction befor Training: f(5) = 2.449\n",
      "epoch 1 => W= 0.749, loss= 17.564\n",
      "epoch 3 => W= 1.100, loss= 8.465\n",
      "epoch 5 => W= 1.344, loss= 4.084\n",
      "epoch 7 => W= 1.513, loss= 1.975\n",
      "epoch 9 => W= 1.630, loss= 0.959\n",
      "epoch 11 => W= 1.712, loss= 0.470\n",
      "epoch 13 => W= 1.769, loss= 0.234\n",
      "epoch 15 => W= 1.809, loss= 0.121\n",
      "epoch 17 => W= 1.836, loss= 0.066\n",
      "epoch 19 => W= 1.856, loss= 0.039\n",
      "epoch 21 => W= 1.869, loss= 0.027\n",
      "epoch 23 => W= 1.879, loss= 0.020\n",
      "epoch 25 => W= 1.886, loss= 0.017\n",
      "epoch 27 => W= 1.891, loss= 0.016\n",
      "epoch 29 => W= 1.894, loss= 0.015\n",
      "epoch 31 => W= 1.897, loss= 0.014\n",
      "epoch 33 => W= 1.899, loss= 0.014\n",
      "epoch 35 => W= 1.901, loss= 0.014\n",
      "Prediction After Training: f(5) = 9.788\n"
     ]
    }
   ],
   "source": [
    "X = torch.tensor([[1], [2], [3], [4]], dtype=torch.float32)\n",
    "Y = torch.tensor([[2], [4], [6], [8]], dtype=torch.float32)\n",
    "\n",
    "X_test = torch.tensor([[5]], dtype=torch.float32)\n",
    "\n",
    "n_sample, n_features = X.shape\n",
    "print(n_sample, n_features)\n",
    "\n",
    "input_size = n_features\n",
    "output_size = n_features\n",
    "\n",
    "# model = torch.nn.Linear(input_size, output_size)\n",
    "\n",
    "\n",
    "class LinearRegression(torch.nn.Module):\n",
    "\n",
    "    def __init__(self, input_dim, output_dim):\n",
    "        super(LinearRegression, self).__init__()\n",
    "        self.lin = torch.nn.Linear(input_dim, output_dim)\n",
    "\n",
    "    def forward(self, X): # you should create a function with 'forward' name. it's help you to use model(X).\n",
    "        return self.lin(X)\n",
    "model = LinearRegression(input_size, output_size)\n",
    "\n",
    "print(f'Prediction befor Training: f(5) = {model(X_test).item():.3f}')\n",
    "\n",
    "lr = 0.01\n",
    "n_iters = 35\n",
    "\n",
    "loss = torch.nn.MSELoss()\n",
    "optimizer = torch.optim.SGD(model.parameters(), lr=lr)\n",
    "\n",
    "for epoch in range(n_iters):\n",
    "    # Prediction = forward pass\n",
    "\n",
    "    Y_pred = model(X)\n",
    "\n",
    "    # loss\n",
    "    l = loss(Y, Y_pred)\n",
    "\n",
    "    # Gradients = backward pass\n",
    "    l.backward()  # dl/dw\n",
    "    optimizer.step()\n",
    "    optimizer.zero_grad()\n",
    "\n",
    "    if epoch % 2 == 0:\n",
    "        [W, b] = model.parameters()\n",
    "        print(f'epoch {epoch + 1} => W= {W[0].item():.3f}, loss= {l:.3f}')\n",
    "print(f'Prediction After Training: f(5) = {model(X_test).item():.3f}')"
   ],
   "metadata": {
    "collapsed": false,
    "pycharm": {
     "name": "#%%\n"
    }
   }
  },
  {
   "cell_type": "code",
   "execution_count": 24,
   "outputs": [
    {
     "data": {
      "text/plain": "tensor([[2.1850],\n        [4.0858],\n        [5.9865],\n        [7.8873]], grad_fn=<AddmmBackward0>)"
     },
     "execution_count": 24,
     "metadata": {},
     "output_type": "execute_result"
    }
   ],
   "source": [
    "model(X)"
   ],
   "metadata": {
    "collapsed": false,
    "pycharm": {
     "name": "#%%\n"
    }
   }
  },
  {
   "cell_type": "code",
   "execution_count": null,
   "outputs": [],
   "source": [],
   "metadata": {
    "collapsed": false,
    "pycharm": {
     "name": "#%%\n"
    }
   }
  }
 ],
 "metadata": {
  "kernelspec": {
   "display_name": "Python 3",
   "language": "python",
   "name": "python3"
  },
  "language_info": {
   "codemirror_mode": {
    "name": "ipython",
    "version": 2
   },
   "file_extension": ".py",
   "mimetype": "text/x-python",
   "name": "python",
   "nbconvert_exporter": "python",
   "pygments_lexer": "ipython2",
   "version": "2.7.6"
  }
 },
 "nbformat": 4,
 "nbformat_minor": 0
}