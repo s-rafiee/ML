{
 "cells": [
  {
   "cell_type": "code",
   "execution_count": 2,
   "metadata": {
    "collapsed": true
   },
   "outputs": [],
   "source": [
    "import torch\n",
    "import numpy as np"
   ]
  },
  {
   "cell_type": "code",
   "execution_count": 4,
   "outputs": [],
   "source": [
    "# f  = W * X\n",
    "# f  = 2 * X"
   ],
   "metadata": {
    "collapsed": false,
    "pycharm": {
     "name": "#%%\n"
    }
   }
  },
  {
   "cell_type": "markdown",
   "source": [
    "# by Numpy"
   ],
   "metadata": {
    "collapsed": false,
    "pycharm": {
     "name": "#%% md\n"
    }
   }
  },
  {
   "cell_type": "code",
   "execution_count": 27,
   "outputs": [
    {
     "name": "stdout",
     "output_type": "stream",
     "text": [
      "Prediction befor Training: f(5) = 0.000\n",
      "epoch 1 => W= 1.200, loss= 30.000\n",
      "epoch 3 => W= 1.872, loss= 0.768\n",
      "epoch 5 => W= 1.980, loss= 0.020\n",
      "epoch 7 => W= 1.997, loss= 0.001\n",
      "epoch 9 => W= 1.999, loss= 0.000\n"
     ]
    }
   ],
   "source": [
    "X = np.array([1, 2, 3, 4], dtype=np.float32)\n",
    "Y = np.array([2, 4, 6, 8], dtype=np.float32)\n",
    "W = 0.0\n",
    "\n",
    "\n",
    "def forward(X):\n",
    "    return W * X\n",
    "\n",
    "\n",
    "def loss(Y, Y_pred):\n",
    "    return ((Y_pred - Y) ** 2).mean()\n",
    "\n",
    "\n",
    "# Gradient\n",
    "# MSE = 1/N * (W*X-Y)**2\n",
    "# dj/ dw = 1/N 2X(W*X-Y)\n",
    "\n",
    "def gradient(X, Y, Y_pred):\n",
    "    return np.dot(2 * X, Y_pred - Y).mean()\n",
    "\n",
    "\n",
    "print(f'Prediction befor Training: f(5) = {forward(5):.3f}')\n",
    "\n",
    "lr = 0.01\n",
    "n_iters = 10\n",
    "for epoch in range(n_iters):\n",
    "    Y_pred = forward(X)\n",
    "\n",
    "    l = loss(Y, Y_pred)\n",
    "\n",
    "    dw = gradient(X, Y, Y_pred)\n",
    "    W -= lr * dw\n",
    "    if epoch % 2 == 0:\n",
    "        print(f'epoch {epoch + 1} => W= {W:.3f}, loss= {l:.3f}')"
   ],
   "metadata": {
    "collapsed": false,
    "pycharm": {
     "name": "#%%\n"
    }
   }
  },
  {
   "cell_type": "markdown",
   "source": [
    "# by Torch"
   ],
   "metadata": {
    "collapsed": false,
    "pycharm": {
     "name": "#%% md\n"
    }
   }
  },
  {
   "cell_type": "code",
   "execution_count": 42,
   "outputs": [
    {
     "name": "stdout",
     "output_type": "stream",
     "text": [
      "Prediction befor Training: f(5) = 0.000\n",
      "epoch 1 => W= 0.300, loss= 30.000\n",
      "epoch 6 => W= 1.246, loss= 5.906\n",
      "epoch 11 => W= 1.665, loss= 1.163\n",
      "epoch 16 => W= 1.851, loss= 0.229\n",
      "epoch 21 => W= 1.934, loss= 0.045\n",
      "epoch 26 => W= 1.971, loss= 0.009\n",
      "epoch 31 => W= 1.987, loss= 0.002\n"
     ]
    }
   ],
   "source": [
    "X = torch.tensor([1, 2, 3, 4], dtype=torch.float32)\n",
    "Y = torch.tensor([2, 4, 6, 8], dtype=torch.float32)\n",
    "\n",
    "W = torch.tensor(0.0, dtype=torch.float32, requires_grad=True)\n",
    "\n",
    "\n",
    "def forward(X):\n",
    "    return W * X\n",
    "\n",
    "\n",
    "def loss(Y, Y_pred):\n",
    "    return ((Y_pred - Y) ** 2).mean()\n",
    "\n",
    "\n",
    "# Gradient\n",
    "# MSE = 1/N * (W*X-Y)**2\n",
    "# dj/ dw = 1/N 2X(W*X-Y)\n",
    "\n",
    "\n",
    "\n",
    "print(f'Prediction befor Training: f(5) = {forward(5):.3f}')\n",
    "\n",
    "lr = 0.01\n",
    "n_iters = 35\n",
    "for epoch in range(n_iters):\n",
    "    # Prediction = forward pass\n",
    "\n",
    "    Y_pred = forward(X)\n",
    "\n",
    "    # loss\n",
    "    l = loss(Y, Y_pred)\n",
    "\n",
    "    # Gradients = backward pass\n",
    "    l.backward() # dl/dw\n",
    "    with torch.no_grad():\n",
    "        W -= lr * W.grad\n",
    "    W.grad.zero_()\n",
    "    if epoch % 5 == 0:\n",
    "        print(f'epoch {epoch + 1} => W= {W:.3f}, loss= {l:.3f}')"
   ],
   "metadata": {
    "collapsed": false,
    "pycharm": {
     "name": "#%%\n"
    }
   }
  },
  {
   "cell_type": "code",
   "execution_count": null,
   "outputs": [],
   "source": [],
   "metadata": {
    "collapsed": false,
    "pycharm": {
     "name": "#%%\n"
    }
   }
  }
 ],
 "metadata": {
  "kernelspec": {
   "display_name": "Python 3",
   "language": "python",
   "name": "python3"
  },
  "language_info": {
   "codemirror_mode": {
    "name": "ipython",
    "version": 2
   },
   "file_extension": ".py",
   "mimetype": "text/x-python",
   "name": "python",
   "nbconvert_exporter": "python",
   "pygments_lexer": "ipython2",
   "version": "2.7.6"
  }
 },
 "nbformat": 4,
 "nbformat_minor": 0
}