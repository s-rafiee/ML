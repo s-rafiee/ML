{
 "cells": [
  {
   "cell_type": "code",
   "execution_count": 1,
   "metadata": {
    "collapsed": true
   },
   "outputs": [],
   "source": [
    "import torch"
   ]
  },
  {
   "cell_type": "code",
   "execution_count": null,
   "outputs": [],
   "source": [
    "x = torch.rand(3, requires_grad=True)\n",
    "print(x)\n",
    "y=x+2\n",
    "print(y)\n",
    "z=y*y*2\n",
    "print(z)\n",
    "z=z.mean()\n",
    "print(z)\n",
    "z.backward()\n",
    "print(x.grad)"
   ],
   "metadata": {
    "collapsed": false,
    "pycharm": {
     "name": "#%%\n"
    }
   }
  },
  {
   "cell_type": "code",
   "execution_count": null,
   "outputs": [],
   "source": [
    "a = torch.tensor([1,2,3,5,4,6])\n",
    "a.device"
   ],
   "metadata": {
    "collapsed": false,
    "pycharm": {
     "name": "#%%\n"
    }
   }
  },
  {
   "cell_type": "code",
   "execution_count": null,
   "outputs": [],
   "source": [
    "a.shape[0]"
   ],
   "metadata": {
    "collapsed": false,
    "pycharm": {
     "name": "#%%\n"
    }
   }
  },
  {
   "cell_type": "code",
   "execution_count": null,
   "outputs": [],
   "source": [
    "a.dtype"
   ],
   "metadata": {
    "collapsed": false,
    "pycharm": {
     "name": "#%%\n"
    }
   }
  },
  {
   "cell_type": "code",
   "execution_count": null,
   "outputs": [],
   "source": [
    "a = a.type(torch.float64)"
   ],
   "metadata": {
    "collapsed": false,
    "pycharm": {
     "name": "#%%\n"
    }
   }
  },
  {
   "cell_type": "code",
   "execution_count": null,
   "outputs": [],
   "source": [
    "a"
   ],
   "metadata": {
    "collapsed": false,
    "pycharm": {
     "name": "#%%\n"
    }
   }
  },
  {
   "cell_type": "code",
   "execution_count": null,
   "outputs": [],
   "source": [
    "a.long()"
   ],
   "metadata": {
    "collapsed": false,
    "pycharm": {
     "name": "#%%\n"
    }
   }
  },
  {
   "cell_type": "code",
   "execution_count": null,
   "outputs": [],
   "source": [
    "torch.ShortTensor([1,2,3])\n",
    "torch.FloatTensor([2,3,5,6])"
   ],
   "metadata": {
    "collapsed": false,
    "pycharm": {
     "name": "#%%\n"
    }
   }
  },
  {
   "cell_type": "code",
   "execution_count": null,
   "outputs": [],
   "source": [
    "x = torch.tensor([3,4,5,6.,7.], requires_grad=True)"
   ],
   "metadata": {
    "collapsed": false,
    "pycharm": {
     "name": "#%%\n"
    }
   }
  },
  {
   "cell_type": "code",
   "execution_count": null,
   "outputs": [],
   "source": [
    "u = x.pow(3).sum()"
   ],
   "metadata": {
    "collapsed": false,
    "pycharm": {
     "name": "#%%\n"
    }
   }
  },
  {
   "cell_type": "code",
   "execution_count": null,
   "outputs": [],
   "source": [
    "u.backward()\n",
    "x.grad"
   ],
   "metadata": {
    "collapsed": false,
    "pycharm": {
     "name": "#%%\n"
    }
   }
  },
  {
   "cell_type": "code",
   "execution_count": null,
   "outputs": [],
   "source": [
    "torch.autograd.grad(u, x)"
   ],
   "metadata": {
    "collapsed": false,
    "pycharm": {
     "name": "#%%\n"
    }
   }
  },
  {
   "cell_type": "code",
   "execution_count": 2,
   "outputs": [
    {
     "name": "stderr",
     "output_type": "stream",
     "text": [
      "Training loop: 100%|██████████| 7000/7000 [00:05<00:00, 1291.05it/s]"
     ]
    },
    {
     "name": "stdout",
     "output_type": "stream",
     "text": [
      "Loss Train: 0.561296820640564, Acc Train: 1.0\n",
      "Loss Test: 0.5465325713157654, Acc Test: 1.0\n"
     ]
    },
    {
     "name": "stderr",
     "output_type": "stream",
     "text": [
      "\n"
     ]
    }
   ],
   "source": [
    "import matplotlib.pyplot as plt\n",
    "from sklearn.datasets._samples_generator import make_blobs\n",
    "from sklearn.model_selection import train_test_split\n",
    "import numpy as np\n",
    "from tqdm import trange\n",
    "device = torch.device(\"cuda:0\" if torch.cuda.is_available() else \"cpu\")\n",
    "\n",
    "n = 1000\n",
    "d = 20\n",
    "n_class = 20\n",
    "epochs = 7000\n",
    "\n",
    "\n",
    "X, Y = make_blobs(n_samples=n, n_features=d, centers=n_class, cluster_std=1.0)\n",
    "X_train, X_test, Y_train, Y_test = train_test_split(X, Y, test_size=0.6, random_state=42)\n",
    "# X = torch.FloatTensor(X)\n",
    "# Y = torch.LongTensor(Y)\n",
    "X_train = torch.tensor(X_train).float().to(device)\n",
    "Y_train = torch.tensor(Y_train).to(device)\n",
    "\n",
    "X_test = torch.tensor(X_test).float().to(device)\n",
    "Y_test = torch.tensor(Y_test).to(device)\n",
    "\n",
    "model = torch.nn.Sequential(\n",
    "    torch.nn.Linear(d, 120),\n",
    "    torch.nn.ReLU(),\n",
    "    torch.nn.Linear(120, 50),\n",
    "    torch.nn.ReLU(),\n",
    "    torch.nn.Linear(50, n_class),\n",
    ")\n",
    "model.to(device)\n",
    "\n",
    "loss_fun = torch.nn.CrossEntropyLoss()\n",
    "optimizer = torch.optim.SGD(model.parameters(), lr=0.0001)\n",
    "import sys\n",
    "\n",
    "for i in trange(epochs, desc='Training loop'):\n",
    "    optimizer.zero_grad()\n",
    "    y_pred = model(X_test)\n",
    "    loss_value = loss_fun(y_pred, Y_test)\n",
    "    loss_value.backward()\n",
    "    optimizer.step()\n",
    "\n",
    "y_pred = model(X_train)\n",
    "loss_value = loss_fun(y_pred, Y_train)\n",
    "print(f\"Loss Train: {loss_value.item()}, Acc Train: { torch.sum(torch.max(y_pred, 1)[1] == Y_train) / len(Y_train)}\")\n",
    "\n",
    "y_pred = model(X_test)\n",
    "loss_value = loss_fun(y_pred, Y_test)\n",
    "print(f\"Loss Test: {loss_value.item()}, Acc Test: { torch.sum(torch.max(y_pred, 1)[1] == Y_test) / len(Y_test)}\")"
   ],
   "metadata": {
    "collapsed": false,
    "pycharm": {
     "name": "#%%\n"
    }
   }
  },
  {
   "cell_type": "code",
   "execution_count": 179,
   "outputs": [
    {
     "name": "stderr",
     "output_type": "stream",
     "text": [
      "/tmp/ipykernel_3405/685029434.py:30: UserWarning: To copy construct from a tensor, it is recommended to use sourceTensor.clone().detach() or sourceTensor.clone().detach().requires_grad_(True), rather than torch.tensor(sourceTensor).\n",
      "  X_train = torch.tensor(X_train).float().to(device)\n"
     ]
    },
    {
     "name": "stdout",
     "output_type": "stream",
     "text": [
      "Train Data Shape:  (2217, 20)\n",
      "Train Y Shape:  (2217,)\n",
      "Test Data Shape:  (951, 20)\n",
      "Test Y Shape:  (951,)\n",
      "torch.Size([2217])\n",
      "torch.Size([400, 20])\n"
     ]
    },
    {
     "name": "stderr",
     "output_type": "stream",
     "text": [
      "Training loop:   0%|          | 0/7000 [00:00<?, ?it/s]/home/saman/miniconda3/envs/torch/lib/python3.9/site-packages/torch/nn/modules/container.py:141: UserWarning: Implicit dimension choice for softmax has been deprecated. Change the call to include dim=X as an argument.\n",
      "  input = module(input)\n",
      "Training loop: 100%|██████████| 7000/7000 [00:00<00:00, 7065.74it/s]\n"
     ]
    }
   ],
   "source": [
    "import pandas as pd\n",
    "import numpy as np\n",
    "import torch\n",
    "from sklearn.model_selection import train_test_split\n",
    "\n",
    "\n",
    "device = torch.device(\"cuda:0\" if torch.cuda.is_available() else \"cpu\")\n",
    "\n",
    "data = pd.read_csv(\"gender_voice.csv\")\n",
    "data = data.values\n",
    "# Y = np.zeros((data.shape[0], n_class))\n",
    "#\n",
    "Y = data[:, -1]\n",
    "Y[np.where(data[:,-1]=='male')] = 0\n",
    "Y[np.where(data[:,-1]=='female')] = 1\n",
    "data = data[:,0:-1]\n",
    "Y = np.array(Y)\n",
    "X_tarin, X_test, Y_train, Y_test = train_test_split(data, Y, test_size=0.3)\n",
    "\n",
    "print(\"Train Data Shape: \", X_tarin.shape)\n",
    "print(\"Train Y Shape: \", Y_train.shape)\n",
    "print(\"Test Data Shape: \", X_test.shape)\n",
    "print(\"Test Y Shape: \", Y_test.shape)\n",
    "\n",
    "\n",
    "n_class = 2\n",
    "n = X_train.shape[0]\n",
    "d = X_train.shape[1]\n",
    "\n",
    "X_train = torch.tensor(X_train).float().to(device)\n",
    "Y_train = torch.tensor(list(Y_train)).to(device)\n",
    "print(Y_train.size())\n",
    "print(X_train.size())\n",
    "model = torch.nn.Sequential(\n",
    "    torch.nn.Linear(d, 120),\n",
    "    torch.nn.ReLU(),\n",
    "    torch.nn.Linear(120, 50),\n",
    "    torch.nn.ReLU(),\n",
    "    torch.nn.Linear(50, n_class),\n",
    "    torch.nn.Softmax(),\n",
    ")\n",
    "model.to(device)\n",
    "\n",
    "loss_fun = torch.nn.CrossEntropyLoss()\n",
    "optimizer = torch.optim.SGD(model.parameters(), lr=0.0001)\n",
    "import sys\n",
    "\n",
    "for i in trange(epochs, desc='Training loop'):\n",
    "    optimizer.zero_grad()\n",
    "    y_pred = model(X_train)\n",
    "    # loss_value = loss_fun(y_pred, Y_train)\n",
    "    # loss_value.backward()\n",
    "    # optimizer.step()\n",
    "#\n",
    "# y_pred = model(X_train)\n",
    "# loss_value = loss_fun(y_pred, Y_train)\n",
    "# print(f\"Loss Train: {loss_value.item()}, Acc Train: { torch.sum(torch.max(y_pred, 1)[1] == Y_train) / len(Y_train)}\")"
   ],
   "metadata": {
    "collapsed": false,
    "pycharm": {
     "name": "#%%\n"
    }
   }
  },
  {
   "cell_type": "code",
   "execution_count": 150,
   "outputs": [
    {
     "data": {
      "text/plain": "tensor(0.3143, device='cuda:0', grad_fn=<MinBackward1>)"
     },
     "execution_count": 150,
     "metadata": {},
     "output_type": "execute_result"
    }
   ],
   "source": [
    "y_pred.min()\n",
    "# Y_train"
   ],
   "metadata": {
    "collapsed": false,
    "pycharm": {
     "name": "#%%\n"
    }
   }
  },
  {
   "cell_type": "code",
   "execution_count": 161,
   "outputs": [
    {
     "data": {
      "text/plain": "tensor([1, 1, 0,  ..., 0, 0, 1], device='cuda:0')"
     },
     "execution_count": 161,
     "metadata": {},
     "output_type": "execute_result"
    }
   ],
   "source": [
    "torch.tensor(list(Y_train)).to(device)"
   ],
   "metadata": {
    "collapsed": false,
    "pycharm": {
     "name": "#%%\n"
    }
   }
  },
  {
   "cell_type": "code",
   "execution_count": 176,
   "outputs": [
    {
     "data": {
      "text/plain": "tensor([1, 1, 1,  ..., 0, 1, 0], device='cuda:0')"
     },
     "execution_count": 176,
     "metadata": {},
     "output_type": "execute_result"
    }
   ],
   "source": [
    "Y_train"
   ],
   "metadata": {
    "collapsed": false,
    "pycharm": {
     "name": "#%%\n"
    }
   }
  },
  {
   "cell_type": "code",
   "execution_count": null,
   "outputs": [],
   "source": [],
   "metadata": {
    "collapsed": false,
    "pycharm": {
     "name": "#%%\n"
    }
   }
  }
 ],
 "metadata": {
  "kernelspec": {
   "display_name": "Python 3",
   "language": "python",
   "name": "python3"
  },
  "language_info": {
   "codemirror_mode": {
    "name": "ipython",
    "version": 2
   },
   "file_extension": ".py",
   "mimetype": "text/x-python",
   "name": "python",
   "nbconvert_exporter": "python",
   "pygments_lexer": "ipython2",
   "version": "2.7.6"
  }
 },
 "nbformat": 4,
 "nbformat_minor": 0
}