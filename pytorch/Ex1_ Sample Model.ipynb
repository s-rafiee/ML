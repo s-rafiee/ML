{
 "cells": [
  {
   "cell_type": "code",
   "execution_count": 37,
   "metadata": {
    "collapsed": true
   },
   "outputs": [],
   "source": [
    "import numpy as np\n",
    "import torch\n",
    "import torch.nn as nn\n",
    "from sklearn.datasets import make_regression\n",
    "from sklearn.preprocessing import StandardScaler\n",
    "from sklearn.model_selection import train_test_split\n",
    "from sklearn import datasets\n",
    "import matplotlib.pyplot as plt"
   ]
  },
  {
   "cell_type": "markdown",
   "source": [
    "# Load Data Sample"
   ],
   "metadata": {
    "collapsed": false,
    "pycharm": {
     "name": "#%% md\n"
    }
   }
  },
  {
   "cell_type": "code",
   "execution_count": 38,
   "outputs": [],
   "source": [
    "n_samples = 100\n",
    "n_features = 1"
   ],
   "metadata": {
    "collapsed": false,
    "pycharm": {
     "name": "#%%\n"
    }
   }
  },
  {
   "cell_type": "code",
   "execution_count": 39,
   "outputs": [],
   "source": [
    "X_numpy, Y_numpy = make_regression(n_samples, n_features, noise=20, random_state=1)"
   ],
   "metadata": {
    "collapsed": false,
    "pycharm": {
     "name": "#%%\n"
    }
   }
  },
  {
   "cell_type": "markdown",
   "source": [
    "# Numpy to Torch"
   ],
   "metadata": {
    "collapsed": false,
    "pycharm": {
     "name": "#%% md\n"
    }
   }
  },
  {
   "cell_type": "code",
   "execution_count": 40,
   "outputs": [],
   "source": [
    "X = torch.from_numpy(X_numpy.astype(np.float32))\n",
    "Y = torch.from_numpy(Y_numpy.astype(np.float32))\n",
    "Y = Y.view(Y.shape[0], 1) # Reshape Tensor"
   ],
   "metadata": {
    "collapsed": false,
    "pycharm": {
     "name": "#%%\n"
    }
   }
  },
  {
   "cell_type": "code",
   "execution_count": 41,
   "outputs": [
    {
     "name": "stdout",
     "output_type": "stream",
     "text": [
      "epoch: 10 => loss: 4362.32177734375\n",
      "epoch: 20 => loss: 3256.966796875\n",
      "epoch: 30 => loss: 2456.599853515625\n",
      "epoch: 40 => loss: 1876.4820556640625\n",
      "epoch: 50 => loss: 1455.6090087890625\n",
      "epoch: 60 => loss: 1150.00341796875\n",
      "epoch: 70 => loss: 927.918701171875\n",
      "epoch: 80 => loss: 766.410400390625\n",
      "epoch: 90 => loss: 648.8763427734375\n",
      "epoch: 100 => loss: 563.2906494140625\n"
     ]
    },
    {
     "data": {
      "text/plain": "<Figure size 432x288 with 1 Axes>",
      "image/png": "[encoded data removed]"
     },
     "metadata": {
      "needs_background": "light"
     },
     "output_type": "display_data"
    }
   ],
   "source": [
    "input_size = n_features\n",
    "output_size = n_features\n",
    "\n",
    "model = nn.Linear(input_size, output_size)\n",
    "\n",
    "loss = nn.MSELoss()\n",
    "optimizer = torch.optim.SGD(model.parameters(), lr= 0.01)\n",
    "\n",
    "epochs = 100\n",
    "\n",
    "for epoch in range(epochs):\n",
    "    Y_pred = model(X)\n",
    "\n",
    "    l = loss(Y, Y_pred)\n",
    "\n",
    "    l.backward()\n",
    "\n",
    "    optimizer.step()\n",
    "\n",
    "    optimizer.zero_grad()\n",
    "    if (epoch+1) %10 == 0:\n",
    "        print(f'epoch: {epoch+1} => loss: {l.item()}')\n",
    "Y_pred = model(X).detach().numpy()\n",
    "plt.plot(X_numpy, Y_numpy, 'ro')\n",
    "plt.plot(X_numpy, Y_pred, 'b')\n",
    "plt.show()"
   ],
   "metadata": {
    "collapsed": false,
    "pycharm": {
     "name": "#%%\n"
    }
   }
  },
  {
   "cell_type": "markdown",
   "source": [
    "# Liner Regression"
   ],
   "metadata": {
    "collapsed": false,
    "pycharm": {
     "name": "#%% md\n"
    }
   }
  },
  {
   "cell_type": "code",
   "execution_count": 55,
   "outputs": [],
   "source": [
    "bc = datasets.load_breast_cancer()\n",
    "X, Y = bc.data, bc.target\n",
    "\n",
    "n_samples, n_features = X.shape"
   ],
   "metadata": {
    "collapsed": false,
    "pycharm": {
     "name": "#%%\n"
    }
   }
  },
  {
   "cell_type": "code",
   "execution_count": 56,
   "outputs": [],
   "source": [
    "X_train, X_test, Y_train, Y_test = train_test_split(X, Y, test_size=0.2, random_state=42)"
   ],
   "metadata": {
    "collapsed": false,
    "pycharm": {
     "name": "#%%\n"
    }
   }
  },
  {
   "cell_type": "code",
   "execution_count": 57,
   "outputs": [],
   "source": [
    "sc = StandardScaler()\n",
    "X_train = sc.fit_transform(X_train)\n",
    "X_test = sc.transform(X_test)"
   ],
   "metadata": {
    "collapsed": false,
    "pycharm": {
     "name": "#%%\n"
    }
   }
  },
  {
   "cell_type": "code",
   "execution_count": 58,
   "outputs": [],
   "source": [
    "X_train = torch.from_numpy(X_train.astype(np.float32))\n",
    "X_test = torch.from_numpy(X_test.astype(np.float32))\n",
    "Y_train = torch.from_numpy(Y_train.astype(np.float32))\n",
    "Y_test = torch.from_numpy(Y_test.astype(np.float32))"
   ],
   "metadata": {
    "collapsed": false,
    "pycharm": {
     "name": "#%%\n"
    }
   }
  },
  {
   "cell_type": "code",
   "execution_count": 60,
   "outputs": [],
   "source": [
    "Y_train = Y_train.view(Y_train.shape[0],1)\n",
    "Y_test = Y_test.view(Y_test.shape[0], 1)"
   ],
   "metadata": {
    "collapsed": false,
    "pycharm": {
     "name": "#%%\n"
    }
   }
  },
  {
   "cell_type": "code",
   "execution_count": 72,
   "outputs": [
    {
     "name": "stdout",
     "output_type": "stream",
     "text": [
      "epoch: 1 => loss: 0.589555561542511\n",
      "epoch: 2 => loss: 0.5783028602600098\n",
      "epoch: 3 => loss: 0.567581832408905\n",
      "epoch: 4 => loss: 0.5573579668998718\n",
      "epoch: 5 => loss: 0.547599732875824\n",
      "epoch: 6 => loss: 0.5382774472236633\n",
      "epoch: 7 => loss: 0.5293639302253723\n",
      "epoch: 8 => loss: 0.5208339095115662\n",
      "epoch: 9 => loss: 0.5126637816429138\n",
      "epoch: 10 => loss: 0.5048320293426514\n",
      "epoch: 11 => loss: 0.4973183870315552\n",
      "epoch: 12 => loss: 0.49010419845581055\n",
      "epoch: 13 => loss: 0.48317214846611023\n",
      "epoch: 14 => loss: 0.4765060245990753\n",
      "epoch: 15 => loss: 0.47009098529815674\n",
      "epoch: 16 => loss: 0.4639129936695099\n",
      "epoch: 17 => loss: 0.45795926451683044\n",
      "epoch: 18 => loss: 0.4522174894809723\n",
      "epoch: 19 => loss: 0.4466765820980072\n",
      "epoch: 20 => loss: 0.44132599234580994\n",
      "epoch: 21 => loss: 0.43615594506263733\n",
      "epoch: 22 => loss: 0.4311572015285492\n",
      "epoch: 23 => loss: 0.42632120847702026\n",
      "epoch: 24 => loss: 0.4216401278972626\n",
      "epoch: 25 => loss: 0.41710615158081055\n",
      "epoch: 26 => loss: 0.4127123951911926\n",
      "epoch: 27 => loss: 0.40845218300819397\n",
      "epoch: 28 => loss: 0.4043194651603699\n",
      "epoch: 29 => loss: 0.40030816197395325\n",
      "epoch: 30 => loss: 0.3964129090309143\n",
      "epoch: 31 => loss: 0.39262855052948\n",
      "epoch: 32 => loss: 0.3889501988887787\n",
      "epoch: 33 => loss: 0.3853732645511627\n",
      "epoch: 34 => loss: 0.3818933367729187\n",
      "epoch: 35 => loss: 0.3785063922405243\n",
      "epoch: 36 => loss: 0.37520864605903625\n",
      "epoch: 37 => loss: 0.3719962537288666\n",
      "epoch: 38 => loss: 0.368865966796875\n",
      "epoch: 39 => loss: 0.36581435799598694\n",
      "epoch: 40 => loss: 0.36283838748931885\n",
      "epoch: 41 => loss: 0.35993504524230957\n",
      "epoch: 42 => loss: 0.3571016788482666\n",
      "epoch: 43 => loss: 0.3543355166912079\n",
      "epoch: 44 => loss: 0.35163405537605286\n",
      "epoch: 45 => loss: 0.34899500012397766\n",
      "epoch: 46 => loss: 0.3464159667491913\n",
      "epoch: 47 => loss: 0.3438948094844818\n",
      "epoch: 48 => loss: 0.34142953157424927\n",
      "epoch: 49 => loss: 0.3390181064605713\n",
      "epoch: 50 => loss: 0.33665868639945984\n",
      "epoch: 51 => loss: 0.33434951305389404\n",
      "epoch: 52 => loss: 0.332088828086853\n",
      "epoch: 53 => loss: 0.32987505197525024\n",
      "epoch: 54 => loss: 0.32770660519599915\n",
      "epoch: 55 => loss: 0.32558196783065796\n",
      "epoch: 56 => loss: 0.3234998285770416\n",
      "epoch: 57 => loss: 0.3214588165283203\n",
      "epoch: 58 => loss: 0.3194575011730194\n",
      "epoch: 59 => loss: 0.3174947500228882\n",
      "epoch: 60 => loss: 0.31556937098503113\n",
      "epoch: 61 => loss: 0.3136802017688751\n",
      "epoch: 62 => loss: 0.31182610988616943\n",
      "epoch: 63 => loss: 0.31000611186027527\n",
      "epoch: 64 => loss: 0.30821913480758667\n",
      "epoch: 65 => loss: 0.306464284658432\n",
      "epoch: 66 => loss: 0.3047405779361725\n",
      "epoch: 67 => loss: 0.3030471205711365\n",
      "epoch: 68 => loss: 0.3013831377029419\n",
      "epoch: 69 => loss: 0.2997477054595947\n",
      "epoch: 70 => loss: 0.2981400489807129\n",
      "epoch: 71 => loss: 0.2965594232082367\n",
      "epoch: 72 => loss: 0.2950051426887512\n",
      "epoch: 73 => loss: 0.293476402759552\n",
      "epoch: 74 => loss: 0.2919726073741913\n",
      "epoch: 75 => loss: 0.29049307107925415\n",
      "epoch: 76 => loss: 0.28903713822364807\n",
      "epoch: 77 => loss: 0.2876042425632477\n",
      "epoch: 78 => loss: 0.28619375824928284\n",
      "epoch: 79 => loss: 0.2848050594329834\n",
      "epoch: 80 => loss: 0.28343769907951355\n",
      "epoch: 81 => loss: 0.2820911407470703\n",
      "epoch: 82 => loss: 0.2807648479938507\n",
      "epoch: 83 => loss: 0.27945831418037415\n",
      "epoch: 84 => loss: 0.2781710624694824\n",
      "epoch: 85 => loss: 0.2769026458263397\n",
      "epoch: 86 => loss: 0.27565261721611023\n",
      "epoch: 87 => loss: 0.2744205594062805\n",
      "epoch: 88 => loss: 0.27320602536201477\n",
      "epoch: 89 => loss: 0.27200859785079956\n",
      "epoch: 90 => loss: 0.2708279490470886\n",
      "epoch: 91 => loss: 0.26966366171836853\n",
      "epoch: 92 => loss: 0.26851531863212585\n",
      "epoch: 93 => loss: 0.2673826515674591\n",
      "epoch: 94 => loss: 0.26626524329185486\n",
      "epoch: 95 => loss: 0.265162855386734\n",
      "epoch: 96 => loss: 0.26407504081726074\n",
      "epoch: 97 => loss: 0.26300159096717834\n",
      "epoch: 98 => loss: 0.2619421184062958\n",
      "epoch: 99 => loss: 0.26089638471603394\n",
      "epoch: 100 => loss: 0.25986406207084656\n"
     ]
    }
   ],
   "source": [
    "class LogisticRegression(torch.nn.Module):\n",
    "    def __init__(self, n_input, n_output):\n",
    "        super(LogisticRegression, self).__init__()\n",
    "        self.liner = torch.nn.Linear(n_input, n_output)\n",
    "\n",
    "    def forward(self, X):\n",
    "        return torch.sigmoid(self.liner(X))\n",
    "\n",
    "model = LogisticRegression(n_features, 1)\n",
    "\n",
    "loss_fn = torch.nn.BCELoss()\n",
    "optimizer = torch.optim.SGD(model.parameters(), lr=0.01)\n",
    "\n",
    "epochs = 100\n",
    "for epoch in range(epochs):\n",
    "    Y_pred = model(X_train)\n",
    "\n",
    "    loss = loss_fn(Y_pred, Y_train)\n",
    "    loss.backward()\n",
    "\n",
    "    optimizer.step()\n",
    "    optimizer.zero_grad()\n",
    "\n",
    "    if (epoch+1) %1 == 0:\n",
    "        print(f'epoch: {epoch+1} => loss: {loss.item()}')"
   ],
   "metadata": {
    "collapsed": false,
    "pycharm": {
     "name": "#%%\n"
    }
   }
  },
  {
   "cell_type": "code",
   "execution_count": 75,
   "outputs": [
    {
     "name": "stdout",
     "output_type": "stream",
     "text": [
      "Test Accuracy: 0.9649122953414917\n"
     ]
    }
   ],
   "source": [
    "with torch.no_grad():\n",
    "    Y_pred = model(X_test)\n",
    "    Y_pred = Y_pred.round()\n",
    "    acc = Y_pred.eq(Y_test).sum() / float(Y_test.shape[0])\n",
    "    print(f\"Test Accuracy: {acc}\")"
   ],
   "metadata": {
    "collapsed": false,
    "pycharm": {
     "name": "#%%\n"
    }
   }
  },
  {
   "cell_type": "code",
   "execution_count": null,
   "outputs": [],
   "source": [],
   "metadata": {
    "collapsed": false,
    "pycharm": {
     "name": "#%%\n"
    }
   }
  }
 ],
 "metadata": {
  "kernelspec": {
   "display_name": "Python 3",
   "language": "python",
   "name": "python3"
  },
  "language_info": {
   "codemirror_mode": {
    "name": "ipython",
    "version": 2
   },
   "file_extension": ".py",
   "mimetype": "text/x-python",
   "name": "python",
   "nbconvert_exporter": "python",
   "pygments_lexer": "ipython2",
   "version": "2.7.6"
  }
 },
 "nbformat": 4,
 "nbformat_minor": 0
}