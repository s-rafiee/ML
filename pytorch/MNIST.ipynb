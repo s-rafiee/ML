{
 "cells": [
  {
   "cell_type": "code",
   "execution_count": 3,
   "metadata": {
    "collapsed": true
   },
   "outputs": [],
   "source": [
    "import torch\n",
    "import torch.nn as nn\n",
    "import torchvision\n",
    "import torchvision.transforms as transform\n",
    "import matplotlib.pyplot as plt"
   ]
  },
  {
   "cell_type": "code",
   "execution_count": 59,
   "outputs": [],
   "source": [
    "device = torch.device('cpu' if torch.cuda.is_available() else 'cpu')"
   ],
   "metadata": {
    "collapsed": false,
    "pycharm": {
     "name": "#%%\n"
    }
   }
  },
  {
   "cell_type": "code",
   "execution_count": 73,
   "outputs": [],
   "source": [
    "input_size = 784\n",
    "hidden_size = 100\n",
    "num_class = 10\n",
    "epochs = 20\n",
    "batch_size = 256\n",
    "lr = 0.001"
   ],
   "metadata": {
    "collapsed": false,
    "pycharm": {
     "name": "#%%\n"
    }
   }
  },
  {
   "cell_type": "markdown",
   "source": [
    "# MNIST Dataset"
   ],
   "metadata": {
    "collapsed": false,
    "pycharm": {
     "name": "#%% md\n"
    }
   }
  },
  {
   "cell_type": "code",
   "execution_count": 74,
   "outputs": [],
   "source": [
    "train_dataset = torchvision.datasets.MNIST(root='./data', train=True, transform=transform.ToTensor(), download=True)\n",
    "test_dataset = torchvision.datasets.MNIST(root='./data', train=False, transform=transform.ToTensor())"
   ],
   "metadata": {
    "collapsed": false,
    "pycharm": {
     "name": "#%%\n"
    }
   }
  },
  {
   "cell_type": "code",
   "execution_count": 75,
   "outputs": [],
   "source": [
    "train_loader = torch.utils.data.DataLoader(dataset=train_dataset, batch_size=batch_size, shuffle=True)\n",
    "test_loader = torch.utils.data.DataLoader(dataset=test_dataset, batch_size=batch_size, shuffle=False)"
   ],
   "metadata": {
    "collapsed": false,
    "pycharm": {
     "name": "#%%\n"
    }
   }
  },
  {
   "cell_type": "markdown",
   "source": [
    "# show Sample Data"
   ],
   "metadata": {
    "collapsed": false,
    "pycharm": {
     "name": "#%% md\n"
    }
   }
  },
  {
   "cell_type": "code",
   "execution_count": 76,
   "outputs": [
    {
     "name": "stdout",
     "output_type": "stream",
     "text": [
      "torch.Size([256, 1, 28, 28]) torch.Size([256])\n"
     ]
    }
   ],
   "source": [
    "examples = iter(train_loader)\n",
    "samples, labels = examples.next()\n",
    "print(samples.shape, labels.shape)"
   ],
   "metadata": {
    "collapsed": false,
    "pycharm": {
     "name": "#%%\n"
    }
   }
  },
  {
   "cell_type": "code",
   "execution_count": 77,
   "outputs": [
    {
     "data": {
      "text/plain": "<Figure size 432x288 with 6 Axes>",
      "image/png": "[encoded data removed]"
     },
     "metadata": {
      "needs_background": "light"
     },
     "output_type": "display_data"
    }
   ],
   "source": [
    "for i in range(6):\n",
    "    plt.subplot(2, 3, i + 1)\n",
    "    plt.imshow(samples[i][0], cmap='gray')\n",
    "plt.show()"
   ],
   "metadata": {
    "collapsed": false,
    "pycharm": {
     "name": "#%%\n"
    }
   }
  },
  {
   "cell_type": "code",
   "execution_count": 78,
   "outputs": [
    {
     "name": "stdout",
     "output_type": "stream",
     "text": [
      "epoch 1 / 20, step 100/235, loss = <built-in method item of Tensor object at 0x7f5273960950>\n",
      "epoch 1 / 20, step 200/235, loss = <built-in method item of Tensor object at 0x7f5273380f90>\n",
      "epoch 2 / 20, step 100/235, loss = <built-in method item of Tensor object at 0x7f5273380540>\n",
      "epoch 2 / 20, step 200/235, loss = <built-in method item of Tensor object at 0x7f5273380540>\n",
      "epoch 3 / 20, step 100/235, loss = <built-in method item of Tensor object at 0x7f5270fc43b0>\n",
      "epoch 3 / 20, step 200/235, loss = <built-in method item of Tensor object at 0x7f5270fc43b0>\n",
      "epoch 4 / 20, step 100/235, loss = <built-in method item of Tensor object at 0x7f5270efb310>\n",
      "epoch 4 / 20, step 200/235, loss = <built-in method item of Tensor object at 0x7f5270efb310>\n",
      "epoch 5 / 20, step 100/235, loss = <built-in method item of Tensor object at 0x7f5270fc43b0>\n",
      "epoch 5 / 20, step 200/235, loss = <built-in method item of Tensor object at 0x7f5273960950>\n",
      "epoch 6 / 20, step 100/235, loss = <built-in method item of Tensor object at 0x7f5270efb310>\n",
      "epoch 6 / 20, step 200/235, loss = <built-in method item of Tensor object at 0x7f5270efb310>\n",
      "epoch 7 / 20, step 100/235, loss = <built-in method item of Tensor object at 0x7f527396c860>\n",
      "epoch 7 / 20, step 200/235, loss = <built-in method item of Tensor object at 0x7f527396c860>\n",
      "epoch 8 / 20, step 100/235, loss = <built-in method item of Tensor object at 0x7f52739603b0>\n",
      "epoch 8 / 20, step 200/235, loss = <built-in method item of Tensor object at 0x7f52739603b0>\n",
      "epoch 9 / 20, step 100/235, loss = <built-in method item of Tensor object at 0x7f5273960950>\n",
      "epoch 9 / 20, step 200/235, loss = <built-in method item of Tensor object at 0x7f5273960950>\n",
      "epoch 10 / 20, step 100/235, loss = <built-in method item of Tensor object at 0x7f5270efb310>\n",
      "epoch 10 / 20, step 200/235, loss = <built-in method item of Tensor object at 0x7f5270efb310>\n",
      "epoch 11 / 20, step 100/235, loss = <built-in method item of Tensor object at 0x7f527396c860>\n",
      "epoch 11 / 20, step 200/235, loss = <built-in method item of Tensor object at 0x7f527396c860>\n",
      "epoch 12 / 20, step 100/235, loss = <built-in method item of Tensor object at 0x7f5273960950>\n",
      "epoch 12 / 20, step 200/235, loss = <built-in method item of Tensor object at 0x7f5273960950>\n",
      "epoch 13 / 20, step 100/235, loss = <built-in method item of Tensor object at 0x7f5270fc43b0>\n",
      "epoch 13 / 20, step 200/235, loss = <built-in method item of Tensor object at 0x7f5270fc43b0>\n",
      "epoch 14 / 20, step 100/235, loss = <built-in method item of Tensor object at 0x7f5270efb310>\n",
      "epoch 14 / 20, step 200/235, loss = <built-in method item of Tensor object at 0x7f5273960950>\n",
      "epoch 15 / 20, step 100/235, loss = <built-in method item of Tensor object at 0x7f5270fc43b0>\n",
      "epoch 15 / 20, step 200/235, loss = <built-in method item of Tensor object at 0x7f5270fc43b0>\n",
      "epoch 16 / 20, step 100/235, loss = <built-in method item of Tensor object at 0x7f5270efb310>\n",
      "epoch 16 / 20, step 200/235, loss = <built-in method item of Tensor object at 0x7f5270efb310>\n",
      "epoch 17 / 20, step 100/235, loss = <built-in method item of Tensor object at 0x7f52770a2950>\n",
      "epoch 17 / 20, step 200/235, loss = <built-in method item of Tensor object at 0x7f5273380540>\n",
      "epoch 18 / 20, step 100/235, loss = <built-in method item of Tensor object at 0x7f52770a2950>\n",
      "epoch 18 / 20, step 200/235, loss = <built-in method item of Tensor object at 0x7f52739603b0>\n",
      "epoch 19 / 20, step 100/235, loss = <built-in method item of Tensor object at 0x7f5270fc43b0>\n",
      "epoch 19 / 20, step 200/235, loss = <built-in method item of Tensor object at 0x7f5270fc43b0>\n",
      "epoch 20 / 20, step 100/235, loss = <built-in method item of Tensor object at 0x7f5272d71590>\n",
      "epoch 20 / 20, step 200/235, loss = <built-in method item of Tensor object at 0x7f5273269900>\n",
      "accuracy: 0.16\n"
     ]
    }
   ],
   "source": [
    "class MNISTNet(nn.Module):\n",
    "    def __init__(self, input_size, hidden_size, num_class):\n",
    "        super(MNISTNet, self).__init__()\n",
    "        self.l1 = nn.Linear(input_size, hidden_size)\n",
    "        self.relu = nn.ReLU()\n",
    "        self.l2 = nn.Linear(hidden_size, num_class)\n",
    "\n",
    "    def forward(self, X):\n",
    "        out = self.l1(X)\n",
    "        out = self.relu(out)\n",
    "        out = self.l2(out)\n",
    "        return out\n",
    "\n",
    "input_size = 784\n",
    "device = torch.device('cpu')\n",
    "model = MNISTNet(input_size, hidden_size, num_class)\n",
    "\n",
    "criterion = nn.CrossEntropyLoss()\n",
    "optimizer = torch.optim.Adam(model.parameters(), lr=lr)\n",
    "\n",
    "# Training Loop\n",
    "n_total_step = len(train_loader)\n",
    "\n",
    "for epoch in range(epochs):\n",
    "    for i, (images, labels) in enumerate(train_loader):\n",
    "        # 100, 1, 28, 28\n",
    "        # 100, 784\n",
    "        images = images.reshape(-1, 28*28).to(device)\n",
    "        labels = labels.to(device)\n",
    "\n",
    "        # forward\n",
    "        output = model(images)\n",
    "        loss = criterion(output, labels)\n",
    "        optimizer.zero_grad()\n",
    "        loss.backward()\n",
    "        optimizer.step()\n",
    "\n",
    "        if (i+1) % 100 == 0:\n",
    "            print(f'epoch {epoch+1} / {epochs}, step {i+1}/{n_total_step}, loss = {loss.item}')\n",
    "# test pass\n",
    "with torch.no_grad():\n",
    "    n_correct = 0\n",
    "    n_samples = 0\n",
    "    for images, labels in test_loader:\n",
    "        images = images.reshape(-1, 28*28).to(device)\n",
    "        labels = labels.to(device)\n",
    "        out = model(images)\n",
    "\n",
    "        _, predictions = torch.max(out, 1)\n",
    "        n_samples += labels.shape[0]\n",
    "        n_correct = (predictions == labels).sum().item()\n",
    "acc = 100.0 * n_correct / n_samples\n",
    "print(f'accuracy: {acc}')"
   ],
   "metadata": {
    "collapsed": false,
    "pycharm": {
     "name": "#%%\n"
    }
   }
  },
  {
   "cell_type": "code",
   "execution_count": 45,
   "outputs": [],
   "source": [],
   "metadata": {
    "collapsed": false,
    "pycharm": {
     "name": "#%%\n"
    }
   }
  },
  {
   "cell_type": "code",
   "execution_count": null,
   "outputs": [],
   "source": [],
   "metadata": {
    "collapsed": false,
    "pycharm": {
     "name": "#%%\n"
    }
   }
  }
 ],
 "metadata": {
  "kernelspec": {
   "display_name": "Python 3",
   "language": "python",
   "name": "python3"
  },
  "language_info": {
   "codemirror_mode": {
    "name": "ipython",
    "version": 2
   },
   "file_extension": ".py",
   "mimetype": "text/x-python",
   "name": "python",
   "nbconvert_exporter": "python",
   "pygments_lexer": "ipython2",
   "version": "2.7.6"
  }
 },
 "nbformat": 4,
 "nbformat_minor": 0
}